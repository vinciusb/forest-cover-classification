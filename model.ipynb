{
 "cells": [
  {
   "cell_type": "code",
   "execution_count": 1,
   "source": [
    "import tensorflow as tf\r\n",
    "import tensorflow.keras as keras \r\n",
    "from tensorflow.keras import layers\r\n",
    "\r\n",
    "from sklearn.compose import ColumnTransformer\r\n",
    "from sklearn.preprocessing import StandardScaler\r\n",
    "from sklearn.model_selection import train_test_split\r\n",
    "from sklearn.metrics import classification_report\r\n",
    "\r\n",
    "import pandas as pd\r\n",
    "import matplotlib.pyplot as plt\r\n",
    "import numpy as np"
   ],
   "outputs": [],
   "metadata": {}
  },
  {
   "cell_type": "code",
   "execution_count": null,
   "source": [
    "def plot_graph(history):\r\n",
    "    plt.plot(history.epoch, history.history['loss'], label='loss')\r\n",
    "    plt.plot(history.epoch, history.history['accuracy'], label='accuracy')\r\n",
    "    plt.plot(history.epoch, history.history['val_accuracy'], label='val accuracy')\r\n",
    "    plt.ylabel('%')\r\n",
    "    plt.xlabel('epoch')\r\n",
    "    plt.legend()\r\n",
    "    plt.show()"
   ],
   "outputs": [],
   "metadata": {}
  },
  {
   "cell_type": "code",
   "execution_count": null,
   "source": [
    "LEARNING_RATE = 0.02\r\n",
    "to_be_resized = [\r\n",
    "    'Elevation', 'Aspect', 'Slope', 'Horizontal_Distance_To_Hydrology',\r\n",
    "    'Vertical_Distance_To_Hydrology', 'Horizontal_Distance_To_Roadways',\r\n",
    "    'Hillshade_9am', 'Hillshade_Noon', 'Hillshade_3pm',\r\n",
    "    'Horizontal_Distance_To_Fire_Points'\r\n",
    "]"
   ],
   "outputs": [],
   "metadata": {}
  },
  {
   "cell_type": "code",
   "execution_count": null,
   "source": [
    "df = pd.read_csv('cover_data.csv')\r\n",
    "data = df.iloc[:,0:-1]\r\n",
    "labels = df.iloc[:,-1:]\r\n",
    "\r\n",
    "train_dt, test_dt, train_labels, test_labels = train_test_split(data, labels, test_size=0.2, random_state=32)\r\n",
    "\r\n",
    "\r\n",
    "std = ColumnTransformer([('standardize', StandardScaler(), to_be_resized)], remainder='passthrough')"
   ],
   "outputs": [],
   "metadata": {}
  },
  {
   "cell_type": "code",
   "execution_count": null,
   "source": [
    "scaled_train_dt = pd.DataFrame(std.fit_transform(train_dt))\r\n",
    "scaled_test_dt = pd.DataFrame(std.transform(test_dt))\r\n",
    "scaled_train_lb = train_labels - 1\r\n",
    "scaled_test_lb = test_labels - 1"
   ],
   "outputs": [],
   "metadata": {}
  },
  {
   "cell_type": "code",
   "execution_count": null,
   "source": [
    "def create_model(l_rate, data):\r\n",
    "    model = keras.Sequential()\r\n",
    "    # Input\r\n",
    "    model.add(layers.InputLayer(input_shape=(data.shape[1],)))\r\n",
    "    # Hidden layers\r\n",
    "    model.add(layers.Dense(128, activation='relu'))\r\n",
    "    # model.add(layers.Dropout(0.25))\r\n",
    "    # Hidden layers\r\n",
    "    model.add(layers.Dense(32, activation='relu'))\r\n",
    "    # model.add(layers.Dropout(0.1))\r\n",
    "    # Hidden layers\r\n",
    "    # model.add(layers.Dense(14, activation='relu'))\r\n",
    "    # Output\r\n",
    "    model.add(layers.Dense(7, activation='softmax'))\r\n",
    "    # Compile\r\n",
    "    model.compile(\r\n",
    "        loss='sparse_categorical_crossentropy',\r\n",
    "        optimizer='adam',\r\n",
    "        metrics=['accuracy']\r\n",
    "    )\r\n",
    "    # keras.optimizers.Adam(learning_rate=l_rate)\r\n",
    "    return model"
   ],
   "outputs": [],
   "metadata": {}
  },
  {
   "cell_type": "code",
   "execution_count": null,
   "source": [
    "stop = keras.callbacks.EarlyStopping(monitor='val_accuracy', min_delta=0.0001, patience=5)\r\n",
    "\r\n",
    "model = create_model(LEARNING_RATE, train_dt)\r\n",
    "model.summary()"
   ],
   "outputs": [],
   "metadata": {}
  },
  {
   "cell_type": "code",
   "execution_count": null,
   "source": [
    "history = model.fit(scaled_train_dt, scaled_train_lb, batch_size=1024, epochs=100, validation_split=0.1, callbacks=[stop])\r\n",
    "\r\n",
    "plot_graph(history)"
   ],
   "outputs": [],
   "metadata": {}
  },
  {
   "cell_type": "code",
   "execution_count": null,
   "source": [
    "y_pred = model.predict(scaled_test_dt)\r\n",
    "\r\n",
    "# Convert the pred to discrete values\r\n",
    "y_pred = np.argmax(y_pred, axis=1)\r\n",
    "class_names = ['Spruce/Fir', 'Lodgepole Pine',\r\n",
    "                'Ponderosa Pine', 'Cottonwood/Willow',\r\n",
    "                'Aspen', 'Douglas-fir', 'Krummholz']\r\n",
    "print(classification_report(scaled_test_lb, y_pred, target_names=class_names))"
   ],
   "outputs": [],
   "metadata": {}
  }
 ],
 "metadata": {
  "kernelspec": {
   "name": "python3",
   "display_name": "Python 3.8.0 64-bit ('tf': conda)"
  },
  "language_info": {
   "codemirror_mode": {
    "name": "ipython",
    "version": 3
   },
   "file_extension": ".py",
   "mimetype": "text/x-python",
   "name": "python",
   "nbconvert_exporter": "python",
   "pygments_lexer": "ipython3",
   "version": "3.8.0"
  },
  "interpreter": {
   "hash": "b4d5690c7fc53426ceb5473e6db252e7013b03c72d66de878a46cbace9ce343d"
  }
 },
 "nbformat": 4,
 "nbformat_minor": 4
}