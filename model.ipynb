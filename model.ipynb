{
 "cells": [
  {
   "cell_type": "code",
   "execution_count": 1,
   "source": [
    "import tensorflow as tf\r\n",
    "import tensorflow.keras as keras \r\n",
    "from tensorflow.keras import layers\r\n",
    "\r\n",
    "from sklearn.compose import ColumnTransformer\r\n",
    "from sklearn.preprocessing import StandardScaler\r\n",
    "from sklearn.model_selection import train_test_split\r\n",
    "from sklearn.metrics import classification_report\r\n",
    "\r\n",
    "import pandas as pd\r\n",
    "import matplotlib.pyplot as plt\r\n",
    "import numpy as np"
   ],
   "outputs": [],
   "metadata": {}
  },
  {
   "cell_type": "code",
   "execution_count": 2,
   "source": [
    "def plot_graph(history):\r\n",
    "    plt.plot(history.epoch, history.history['loss'], label='loss')\r\n",
    "    plt.plot(history.epoch, history.history['accuracy'], label='accuracy')\r\n",
    "    plt.plot(history.epoch, history.history['val_accuracy'], label='val accuracy')\r\n",
    "    plt.ylabel('%')\r\n",
    "    plt.xlabel('epoch')\r\n",
    "    plt.legend()\r\n",
    "    plt.show()"
   ],
   "outputs": [],
   "metadata": {}
  },
  {
   "cell_type": "code",
   "execution_count": 3,
   "source": [
    "LEARNING_RATE = 0.02\r\n",
    "to_be_resized = [\r\n",
    "    'Elevation', 'Aspect', 'Slope', 'Horizontal_Distance_To_Hydrology',\r\n",
    "    'Vertical_Distance_To_Hydrology', 'Horizontal_Distance_To_Roadways',\r\n",
    "    'Hillshade_9am', 'Hillshade_Noon', 'Hillshade_3pm',\r\n",
    "    'Horizontal_Distance_To_Fire_Points'\r\n",
    "]"
   ],
   "outputs": [],
   "metadata": {}
  },
  {
   "cell_type": "code",
   "execution_count": 4,
   "source": [
    "df = pd.read_csv('cover_data.csv')\r\n",
    "data = df.iloc[:,0:-1]\r\n",
    "labels = df.iloc[:,-1:]\r\n",
    "\r\n",
    "train_dt, test_dt, train_labels, test_labels = train_test_split(data, labels, test_size=0.2, random_state=32)\r\n",
    "\r\n",
    "\r\n",
    "std = ColumnTransformer([('standardize', StandardScaler(), to_be_resized)], remainder='passthrough')"
   ],
   "outputs": [],
   "metadata": {}
  },
  {
   "cell_type": "code",
   "execution_count": 5,
   "source": [
    "scaled_train_dt = pd.DataFrame(std.fit_transform(train_dt))\r\n",
    "scaled_test_dt = pd.DataFrame(std.transform(test_dt))\r\n",
    "scaled_train_lb = train_labels - 1\r\n",
    "scaled_test_lb = test_labels - 1"
   ],
   "outputs": [],
   "metadata": {}
  },
  {
   "cell_type": "code",
   "execution_count": 6,
   "source": [
    "def create_model(l_rate, data):\r\n",
    "    model = keras.Sequential()\r\n",
    "    # Input\r\n",
    "    model.add(layers.InputLayer(input_shape=(data.shape[1],)))\r\n",
    "    # Hidden layers\r\n",
    "    model.add(layers.Dense(128, activation='relu'))\r\n",
    "    # model.add(layers.Dropout(0.25))\r\n",
    "    # Hidden layers\r\n",
    "    model.add(layers.Dense(32, activation='relu'))\r\n",
    "    # model.add(layers.Dropout(0.1))\r\n",
    "    # Hidden layers\r\n",
    "    # model.add(layers.Dense(14, activation='relu'))\r\n",
    "    # Output\r\n",
    "    model.add(layers.Dense(7, activation='softmax'))\r\n",
    "    # Compile\r\n",
    "    model.compile(\r\n",
    "        loss='sparse_categorical_crossentropy',\r\n",
    "        optimizer='adam',\r\n",
    "        metrics=['accuracy']\r\n",
    "    )\r\n",
    "    # keras.optimizers.Adam(learning_rate=l_rate)\r\n",
    "    return model"
   ],
   "outputs": [],
   "metadata": {}
  },
  {
   "cell_type": "code",
   "execution_count": 7,
   "source": [
    "stop = keras.callbacks.EarlyStopping(monitor='val_accuracy', min_delta=0.0001, patience=5)\r\n",
    "\r\n",
    "model = create_model(LEARNING_RATE, train_dt)\r\n",
    "model.summary()"
   ],
   "outputs": [
    {
     "output_type": "stream",
     "name": "stdout",
     "text": [
      "Model: \"sequential\"\n",
      "_________________________________________________________________\n",
      "Layer (type)                 Output Shape              Param #   \n",
      "=================================================================\n",
      "dense (Dense)                (None, 128)               7040      \n",
      "_________________________________________________________________\n",
      "dense_1 (Dense)              (None, 32)                4128      \n",
      "_________________________________________________________________\n",
      "dense_2 (Dense)              (None, 7)                 231       \n",
      "=================================================================\n",
      "Total params: 11,399\n",
      "Trainable params: 11,399\n",
      "Non-trainable params: 0\n",
      "_________________________________________________________________\n"
     ]
    }
   ],
   "metadata": {}
  },
  {
   "cell_type": "code",
   "execution_count": 8,
   "source": [
    "history = model.fit(scaled_train_dt, scaled_train_lb, batch_size=1024, epochs=100, validation_split=0.1, callbacks=[stop])\r\n",
    "\r\n",
    "plot_graph(history)"
   ],
   "outputs": [
    {
     "output_type": "stream",
     "name": "stdout",
     "text": [
      "Epoch 1/100\n",
      "409/409 [==============================] - 4s 6ms/step - loss: 0.7412 - accuracy: 0.7067 - val_loss: 0.5861 - val_accuracy: 0.7488\n",
      "Epoch 2/100\n",
      "409/409 [==============================] - 2s 5ms/step - loss: 0.5503 - accuracy: 0.7665 - val_loss: 0.5229 - val_accuracy: 0.7752\n",
      "Epoch 3/100\n",
      "409/409 [==============================] - 2s 5ms/step - loss: 0.5016 - accuracy: 0.7866 - val_loss: 0.4838 - val_accuracy: 0.7944\n",
      "Epoch 4/100\n",
      "409/409 [==============================] - 3s 6ms/step - loss: 0.4695 - accuracy: 0.8023 - val_loss: 0.4593 - val_accuracy: 0.8062\n",
      "Epoch 5/100\n",
      "409/409 [==============================] - 2s 6ms/step - loss: 0.4466 - accuracy: 0.8127 - val_loss: 0.4392 - val_accuracy: 0.8144\n",
      "Epoch 6/100\n",
      "409/409 [==============================] - 3s 6ms/step - loss: 0.4293 - accuracy: 0.8209 - val_loss: 0.4219 - val_accuracy: 0.8239\n",
      "Epoch 7/100\n",
      "409/409 [==============================] - 4s 10ms/step - loss: 0.4158 - accuracy: 0.8271 - val_loss: 0.4107 - val_accuracy: 0.8287\n",
      "Epoch 8/100\n",
      "409/409 [==============================] - 4s 9ms/step - loss: 0.4046 - accuracy: 0.8321 - val_loss: 0.4006 - val_accuracy: 0.8327\n",
      "Epoch 9/100\n",
      "409/409 [==============================] - 4s 10ms/step - loss: 0.3946 - accuracy: 0.8369 - val_loss: 0.3930 - val_accuracy: 0.8354\n",
      "Epoch 10/100\n",
      "409/409 [==============================] - 3s 6ms/step - loss: 0.3868 - accuracy: 0.8402 - val_loss: 0.3885 - val_accuracy: 0.8374\n",
      "Epoch 11/100\n",
      "409/409 [==============================] - 3s 7ms/step - loss: 0.3783 - accuracy: 0.8439 - val_loss: 0.3778 - val_accuracy: 0.8426\n",
      "Epoch 12/100\n",
      "409/409 [==============================] - 2s 6ms/step - loss: 0.3723 - accuracy: 0.8471 - val_loss: 0.3716 - val_accuracy: 0.8462\n",
      "Epoch 13/100\n",
      "409/409 [==============================] - 2s 6ms/step - loss: 0.3655 - accuracy: 0.8503 - val_loss: 0.3748 - val_accuracy: 0.8432\n",
      "Epoch 14/100\n",
      "409/409 [==============================] - 3s 6ms/step - loss: 0.3604 - accuracy: 0.8525 - val_loss: 0.3708 - val_accuracy: 0.8427\n",
      "Epoch 15/100\n",
      "409/409 [==============================] - 3s 6ms/step - loss: 0.3551 - accuracy: 0.8548 - val_loss: 0.3614 - val_accuracy: 0.8493\n",
      "Epoch 16/100\n",
      "409/409 [==============================] - 3s 7ms/step - loss: 0.3502 - accuracy: 0.8573 - val_loss: 0.3571 - val_accuracy: 0.8524\n",
      "Epoch 17/100\n",
      "409/409 [==============================] - 2s 6ms/step - loss: 0.3462 - accuracy: 0.8591 - val_loss: 0.3510 - val_accuracy: 0.8540\n",
      "Epoch 18/100\n",
      "409/409 [==============================] - 2s 6ms/step - loss: 0.3418 - accuracy: 0.8609 - val_loss: 0.3521 - val_accuracy: 0.8542\n",
      "Epoch 19/100\n",
      "409/409 [==============================] - 2s 6ms/step - loss: 0.3387 - accuracy: 0.8623 - val_loss: 0.3502 - val_accuracy: 0.8542\n",
      "Epoch 20/100\n",
      "409/409 [==============================] - 3s 8ms/step - loss: 0.3344 - accuracy: 0.8643 - val_loss: 0.3399 - val_accuracy: 0.8610\n",
      "Epoch 21/100\n",
      "409/409 [==============================] - 3s 7ms/step - loss: 0.3314 - accuracy: 0.8656 - val_loss: 0.3352 - val_accuracy: 0.8628\n",
      "Epoch 22/100\n",
      "409/409 [==============================] - 3s 7ms/step - loss: 0.3285 - accuracy: 0.8669 - val_loss: 0.3412 - val_accuracy: 0.8596\n",
      "Epoch 23/100\n",
      "409/409 [==============================] - 3s 7ms/step - loss: 0.3250 - accuracy: 0.8687 - val_loss: 0.3318 - val_accuracy: 0.8639\n",
      "Epoch 24/100\n",
      "409/409 [==============================] - 2s 6ms/step - loss: 0.3233 - accuracy: 0.8694 - val_loss: 0.3280 - val_accuracy: 0.8651\n",
      "Epoch 25/100\n",
      "409/409 [==============================] - 3s 7ms/step - loss: 0.3197 - accuracy: 0.8710 - val_loss: 0.3288 - val_accuracy: 0.8650\n",
      "Epoch 26/100\n",
      "409/409 [==============================] - 3s 7ms/step - loss: 0.3173 - accuracy: 0.8717 - val_loss: 0.3270 - val_accuracy: 0.8660\n",
      "Epoch 27/100\n",
      "409/409 [==============================] - 4s 9ms/step - loss: 0.3159 - accuracy: 0.8722 - val_loss: 0.3217 - val_accuracy: 0.8676\n",
      "Epoch 28/100\n",
      "409/409 [==============================] - 3s 8ms/step - loss: 0.3126 - accuracy: 0.8741 - val_loss: 0.3215 - val_accuracy: 0.8692\n",
      "Epoch 29/100\n",
      "409/409 [==============================] - 3s 7ms/step - loss: 0.3103 - accuracy: 0.8751 - val_loss: 0.3185 - val_accuracy: 0.8700\n",
      "Epoch 30/100\n",
      "409/409 [==============================] - 3s 7ms/step - loss: 0.3090 - accuracy: 0.8752 - val_loss: 0.3195 - val_accuracy: 0.8701\n",
      "Epoch 31/100\n",
      "409/409 [==============================] - 3s 6ms/step - loss: 0.3071 - accuracy: 0.8763 - val_loss: 0.3284 - val_accuracy: 0.8664\n",
      "Epoch 32/100\n",
      "409/409 [==============================] - 3s 7ms/step - loss: 0.3054 - accuracy: 0.8772 - val_loss: 0.3124 - val_accuracy: 0.8727\n",
      "Epoch 33/100\n",
      "409/409 [==============================] - 2s 6ms/step - loss: 0.3036 - accuracy: 0.8778 - val_loss: 0.3126 - val_accuracy: 0.8728\n",
      "Epoch 34/100\n",
      "409/409 [==============================] - 2s 6ms/step - loss: 0.3017 - accuracy: 0.8788 - val_loss: 0.3079 - val_accuracy: 0.8764\n",
      "Epoch 35/100\n",
      "409/409 [==============================] - 3s 6ms/step - loss: 0.3006 - accuracy: 0.8790 - val_loss: 0.3137 - val_accuracy: 0.8728\n",
      "Epoch 36/100\n",
      "409/409 [==============================] - 3s 6ms/step - loss: 0.2981 - accuracy: 0.8805 - val_loss: 0.3049 - val_accuracy: 0.8762\n",
      "Epoch 37/100\n",
      "409/409 [==============================] - 3s 6ms/step - loss: 0.2965 - accuracy: 0.8812 - val_loss: 0.3199 - val_accuracy: 0.8710\n",
      "Epoch 38/100\n",
      "409/409 [==============================] - 3s 6ms/step - loss: 0.2958 - accuracy: 0.8810 - val_loss: 0.3136 - val_accuracy: 0.8733\n",
      "Epoch 39/100\n",
      "409/409 [==============================] - 3s 6ms/step - loss: 0.2940 - accuracy: 0.8817 - val_loss: 0.3033 - val_accuracy: 0.8773\n",
      "Epoch 40/100\n",
      "409/409 [==============================] - 2s 6ms/step - loss: 0.2930 - accuracy: 0.8823 - val_loss: 0.3002 - val_accuracy: 0.8789\n",
      "Epoch 41/100\n",
      "409/409 [==============================] - 2s 6ms/step - loss: 0.2912 - accuracy: 0.8832 - val_loss: 0.3134 - val_accuracy: 0.8713\n",
      "Epoch 42/100\n",
      "409/409 [==============================] - 2s 6ms/step - loss: 0.2903 - accuracy: 0.8831 - val_loss: 0.2996 - val_accuracy: 0.8773\n",
      "Epoch 43/100\n",
      "409/409 [==============================] - 2s 6ms/step - loss: 0.2891 - accuracy: 0.8839 - val_loss: 0.3033 - val_accuracy: 0.8759\n",
      "Epoch 44/100\n",
      "409/409 [==============================] - 2s 6ms/step - loss: 0.2868 - accuracy: 0.8854 - val_loss: 0.2962 - val_accuracy: 0.8806\n",
      "Epoch 45/100\n",
      "409/409 [==============================] - 2s 6ms/step - loss: 0.2858 - accuracy: 0.8854 - val_loss: 0.2994 - val_accuracy: 0.8787\n",
      "Epoch 46/100\n",
      "409/409 [==============================] - 3s 6ms/step - loss: 0.2850 - accuracy: 0.8855 - val_loss: 0.2933 - val_accuracy: 0.8832\n",
      "Epoch 47/100\n",
      "409/409 [==============================] - 3s 6ms/step - loss: 0.2834 - accuracy: 0.8865 - val_loss: 0.2936 - val_accuracy: 0.8821\n",
      "Epoch 48/100\n",
      "409/409 [==============================] - 2s 6ms/step - loss: 0.2818 - accuracy: 0.8875 - val_loss: 0.2903 - val_accuracy: 0.8834\n",
      "Epoch 49/100\n",
      "409/409 [==============================] - 3s 6ms/step - loss: 0.2814 - accuracy: 0.8880 - val_loss: 0.3009 - val_accuracy: 0.8768\n",
      "Epoch 50/100\n",
      "409/409 [==============================] - 3s 7ms/step - loss: 0.2806 - accuracy: 0.8876 - val_loss: 0.3018 - val_accuracy: 0.8772\n",
      "Epoch 51/100\n",
      "409/409 [==============================] - 3s 7ms/step - loss: 0.2787 - accuracy: 0.8886 - val_loss: 0.2927 - val_accuracy: 0.8816\n",
      "Epoch 52/100\n",
      "409/409 [==============================] - 3s 6ms/step - loss: 0.2780 - accuracy: 0.8886 - val_loss: 0.2924 - val_accuracy: 0.8826\n",
      "Epoch 53/100\n",
      "409/409 [==============================] - 3s 7ms/step - loss: 0.2766 - accuracy: 0.8895 - val_loss: 0.2860 - val_accuracy: 0.8833\n"
     ]
    },
    {
     "output_type": "display_data",
     "data": {
      "image/png": "[encoded data removed]",
      "text/plain": [
       "<Figure size 432x288 with 1 Axes>"
      ]
     },
     "metadata": {
      "needs_background": "light"
     }
    }
   ],
   "metadata": {}
  },
  {
   "cell_type": "code",
   "execution_count": 9,
   "source": [
    "y_pred = model.predict(scaled_test_dt)\r\n",
    "\r\n",
    "# Convert the pred to discrete values\r\n",
    "y_pred = np.argmax(y_pred, axis=1)\r\n",
    "class_names = ['Spruce/Fir', 'Lodgepole Pine',\r\n",
    "                'Ponderosa Pine', 'Cottonwood/Willow',\r\n",
    "                'Aspen', 'Douglas-fir', 'Krummholz']\r\n",
    "print(classification_report(scaled_test_lb, y_pred, target_names=class_names))"
   ],
   "outputs": [
    {
     "output_type": "stream",
     "name": "stdout",
     "text": [
      "                   precision    recall  f1-score   support\n",
      "\n",
      "       Spruce/Fir       0.90      0.87      0.88     42228\n",
      "   Lodgepole Pine       0.89      0.92      0.90     56749\n",
      "   Ponderosa Pine       0.83      0.91      0.87      7216\n",
      "Cottonwood/Willow       0.83      0.76      0.79       544\n",
      "            Aspen       0.74      0.63      0.69      1816\n",
      "      Douglas-fir       0.82      0.66      0.73      3574\n",
      "        Krummholz       0.92      0.89      0.91      4076\n",
      "\n",
      "         accuracy                           0.89    116203\n",
      "        macro avg       0.85      0.81      0.83    116203\n",
      "     weighted avg       0.89      0.89      0.88    116203\n",
      "\n"
     ]
    }
   ],
   "metadata": {}
  }
 ],
 "metadata": {
  "kernelspec": {
   "name": "python3",
   "display_name": "Python 3.8.0 64-bit ('tf': conda)"
  },
  "language_info": {
   "codemirror_mode": {
    "name": "ipython",
    "version": 3
   },
   "file_extension": ".py",
   "mimetype": "text/x-python",
   "name": "python",
   "nbconvert_exporter": "python",
   "pygments_lexer": "ipython3",
   "version": "3.8.0"
  },
  "interpreter": {
   "hash": "b4d5690c7fc53426ceb5473e6db252e7013b03c72d66de878a46cbace9ce343d"
  }
 },
 "nbformat": 4,
 "nbformat_minor": 4
}